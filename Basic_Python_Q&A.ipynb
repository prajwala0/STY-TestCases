{
 "cells": [
  {
   "cell_type": "markdown",
   "id": "d21a6afa",
   "metadata": {},
   "source": [
    "#### 1.What is python, what are the benefits of using python ?"
   ]
  },
  {
   "cell_type": "markdown",
   "id": "603d1598",
   "metadata": {},
   "source": [
    "Python is a high-level, interpreted, and general-purpose dynamic programming language that focuses on code readability.\n",
    "##### Benefits : \n",
    "1.Extensive support libraries    \n",
    "2.User-friendly data structures    \n",
    "3.Used in Many Industries"
   ]
  },
  {
   "cell_type": "markdown",
   "id": "fc265a27",
   "metadata": {},
   "source": [
    "#### 2.Datatype in Python ?"
   ]
  },
  {
   "cell_type": "markdown",
   "id": "41000d80",
   "metadata": {},
   "source": [
    "There are different types of data types in Python. Some built-in Python data types are:\n",
    "\n",
    "    Numeric data types: int, float, complex\n",
    "    String data types: str\n",
    "    Sequence types: list, tuple, range\n",
    "    Binary types: bytes, bytearray, memoryview\n",
    "    Mapping data type: dict\n",
    "    Boolean type: bool\n",
    "    Set data types: set, frozenset"
   ]
  },
  {
   "cell_type": "markdown",
   "id": "fac6d163",
   "metadata": {},
   "source": [
    "#### 3.Difference's Between (List / Tuple / Dict ) & there Properties ?"
   ]
  },
  {
   "cell_type": "markdown",
   "id": "9d1c95f5",
   "metadata": {},
   "source": [
    "#### List\n",
    "    1.Lists are mutable.\n",
    "    2.Lists are declared with square braces.\n",
    "    Ex : [1,2,3]\n",
    "        \n",
    "#### Tuple\n",
    "    1.Tuples are immutable.\n",
    "    2.Tuples are enclosed within parenthesis.\n",
    "    Ex : (1,2,3)\n",
    "        \n",
    "#### Set \n",
    "    1.Sets are mutable and have no duplicate elements.\n",
    "    2.Sets are represented in curly brackets.\n",
    "    Ex : {1,2,3}\n",
    "#### Dict \n",
    "    1.Dictionaries are mutable and keys do not allow duplicates.\n",
    "    2.Dictionaries are enclosed in curly brackets in the form of key-value pairs.\n",
    "    Ex : {'a':1, 'b':2, 'c':3}"
   ]
  },
  {
   "cell_type": "markdown",
   "id": "f12d0c2c",
   "metadata": {},
   "source": [
    "#### 4.In Python what is slicing ?"
   ]
  },
  {
   "cell_type": "markdown",
   "id": "b29f29b8",
   "metadata": {},
   "source": [
    "Python slicing is about obtaining a sub-string from the given string by slicing it respectively from start to end.\n",
    "\n",
    "Python slicing can be done in two ways:\n",
    "    \n",
    "    Using a slice() method\n",
    "    Using the array slicing  [:: ] method"
   ]
  },
  {
   "cell_type": "markdown",
   "id": "a995553d",
   "metadata": {},
   "source": [
    "#### 5.What is Doc String in Python ?"
   ]
  },
  {
   "cell_type": "markdown",
   "id": "e8a8838f",
   "metadata": {},
   "source": [
    "Python docstrings are the string literals that appear right after the definition of a function, method, class, or module. "
   ]
  },
  {
   "cell_type": "code",
   "execution_count": 3,
   "id": "b5599d30",
   "metadata": {},
   "outputs": [
    {
     "name": "stdout",
     "output_type": "stream",
     "text": [
      "Takes in a number n, returns the square of n\n"
     ]
    }
   ],
   "source": [
    "def square(n):\n",
    "    '''Takes in a number n, returns the square of n'''\n",
    "    return n**2\n",
    "\n",
    "print(square.__doc__)"
   ]
  },
  {
   "cell_type": "markdown",
   "id": "4bb5da61",
   "metadata": {},
   "source": [
    "#### 6.How can you copy Object in Python  With example ?"
   ]
  },
  {
   "cell_type": "markdown",
   "id": "07dfa636",
   "metadata": {},
   "source": [
    "'='  operator only creates a new variable that shares the reference of the original object, it doesn't creates a new object"
   ]
  },
  {
   "cell_type": "markdown",
   "id": "566b0daa",
   "metadata": {},
   "source": [
    "In Python, there are two ways to create copies:\n",
    "\n",
    "    1.Shallow Copy\n",
    "    2.Deep Copy"
   ]
  },
  {
   "cell_type": "markdown",
   "id": "c7c53c51",
   "metadata": {},
   "source": [
    "##### Shallow Copy"
   ]
  },
  {
   "cell_type": "markdown",
   "id": "bdb03366",
   "metadata": {},
   "source": [
    "A shallow copy creates a new compound object and then references the objects contained in the original within it, which means it constructs a new collection object and then populates it with references to the child objects found in the original. The copying process does not recurse and therefore won’t create copies of the child objects themselves. In the case of shallow copy, a reference of an object is copied into another object. It means that any changes made to a copy of an object do reflect in the original object. "
   ]
  },
  {
   "cell_type": "markdown",
   "id": "c9990fa5",
   "metadata": {},
   "source": [
    "    The original elements before shallow copying : 1 2 [3, 5] 4 \n",
    "    The original elements after shallow copying  : 1 2 [7, 5] 4 "
   ]
  },
  {
   "cell_type": "markdown",
   "id": "35d7af1b",
   "metadata": {},
   "source": [
    "##### Deep Copy"
   ]
  },
  {
   "cell_type": "markdown",
   "id": "2ebc02dc",
   "metadata": {},
   "source": [
    "A deep copy creates a new compound object before inserting copies of the items found in the original into it in a recursive manner. It means first constructing a new collection object and then recursively populating it with copies of the child objects found in the original. In the case of deep copy, a copy of the object is copied into another object. It means that any changes made to a copy of the object do not reflect in the original object. "
   ]
  },
  {
   "cell_type": "markdown",
   "id": "63a7ee91",
   "metadata": {},
   "source": [
    "    The original elements before deep copying   :  1 2 [3, 5] 4 \n",
    "    The new list of elements after deep copying : 1 2 [7, 5] 4 \n",
    "    The original elements after deep copying    : 1 2 [3, 5] 4"
   ]
  },
  {
   "cell_type": "markdown",
   "id": "0eedc365",
   "metadata": {},
   "source": [
    "#### 7.What is negative indexing in python With Example ?"
   ]
  },
  {
   "cell_type": "markdown",
   "id": "60dc078f",
   "metadata": {},
   "source": [
    "Negative indexing is used in Python to manipulate sequence objects such as lists, arrays, strings, etc. Negative indexing retrieves elements from the end by providing negative numbers as sequence indexes."
   ]
  },
  {
   "cell_type": "code",
   "execution_count": 7,
   "id": "b79afe03",
   "metadata": {},
   "outputs": [
    {
     "name": "stdout",
     "output_type": "stream",
     "text": [
      "orl\n"
     ]
    }
   ],
   "source": [
    "b = \"Hello, World!\"\n",
    "print(b[-5:-2])"
   ]
  },
  {
   "cell_type": "markdown",
   "id": "9890c2cf",
   "metadata": {},
   "source": [
    "#### 8.How can you convert a number to String ? Example !"
   ]
  },
  {
   "cell_type": "markdown",
   "id": "62e3caec",
   "metadata": {},
   "source": [
    "To convert an integer to a string, use the str() built-in function."
   ]
  },
  {
   "cell_type": "code",
   "execution_count": 10,
   "id": "6ef7aca8",
   "metadata": {},
   "outputs": [
    {
     "name": "stdout",
     "output_type": "stream",
     "text": [
      "9\n",
      "<class 'str'>\n"
     ]
    }
   ],
   "source": [
    "a = str(9)\n",
    "print(a)\n",
    "print(type(a))"
   ]
  },
  {
   "cell_type": "markdown",
   "id": "a6d3b3b6",
   "metadata": {},
   "source": [
    "#### 9.Is python case sensitive?"
   ]
  },
  {
   "cell_type": "markdown",
   "id": "1afec12b",
   "metadata": {},
   "source": [
    "Python is a case−sensitive programming language. This means that it considers uppercase and lowercase letters differently."
   ]
  },
  {
   "cell_type": "markdown",
   "id": "28a787ec",
   "metadata": {},
   "source": [
    "#### 10.What are functions in Python? Example Syntax ?"
   ]
  },
  {
   "cell_type": "markdown",
   "id": "dcc409d1",
   "metadata": {},
   "source": [
    "A function is a block of code that performs a specific task.\n",
    "\n",
    "##### Types of function\n",
    "There are two types of function in Python programming:\n",
    "    \n",
    "    Standard library functions - These are built-in functions in Python that are available to use.\n",
    "    User-defined functions - We can create our own functions based on our requirements."
   ]
  },
  {
   "cell_type": "markdown",
   "id": "e780649f",
   "metadata": {},
   "source": [
    "The syntax to declare a function is:\n",
    "    \n",
    "    def function_name(arguments):\n",
    "        # function body \n",
    "        return"
   ]
  },
  {
   "cell_type": "markdown",
   "id": "749d9f0f",
   "metadata": {},
   "source": [
    "A function only runs when it is called.\n",
    "\n",
    "    function_name(arguments)"
   ]
  },
  {
   "cell_type": "markdown",
   "id": "57bf6b68",
   "metadata": {},
   "source": [
    "---------------------"
   ]
  },
  {
   "cell_type": "markdown",
   "id": "58bc2a97",
   "metadata": {},
   "source": [
    "#### 11. Write a program to find distinct colours from below array \n",
    "[\"red\",\"blue\",\"green\",\"blue\",\"yellow\",\"red\"]"
   ]
  },
  {
   "cell_type": "code",
   "execution_count": 1,
   "id": "73a7b93c",
   "metadata": {},
   "outputs": [
    {
     "data": {
      "text/plain": [
       "{'blue', 'green', 'red', 'yellow'}"
      ]
     },
     "execution_count": 1,
     "metadata": {},
     "output_type": "execute_result"
    }
   ],
   "source": [
    "lis = [\"red\",\"blue\",\"green\",\"blue\",\"yellow\",\"red\"]\n",
    "set(lis)"
   ]
  },
  {
   "cell_type": "markdown",
   "id": "1c394779",
   "metadata": {},
   "source": [
    "#### 12. Write a program to find the largest number from below array \n",
    "[12, 51, 23, 78, 92, 65] "
   ]
  },
  {
   "cell_type": "code",
   "execution_count": 2,
   "id": "15c0b8d4",
   "metadata": {},
   "outputs": [
    {
     "data": {
      "text/plain": [
       "92"
      ]
     },
     "execution_count": 2,
     "metadata": {},
     "output_type": "execute_result"
    }
   ],
   "source": [
    "lis = [12, 51, 23, 78, 92, 65]\n",
    "max(lis)"
   ]
  },
  {
   "cell_type": "markdown",
   "id": "8509c8d8",
   "metadata": {},
   "source": [
    "#### 13. Write a program to find total no of vowels from below string \n",
    "\"You learn more from failure than from success.\""
   ]
  },
  {
   "cell_type": "code",
   "execution_count": 6,
   "id": "c01805b6",
   "metadata": {},
   "outputs": [
    {
     "data": {
      "text/plain": [
       "15"
      ]
     },
     "execution_count": 6,
     "metadata": {},
     "output_type": "execute_result"
    }
   ],
   "source": [
    "sent = \"You learn more from failure than from success.\"\n",
    "\n",
    "vow = ['a','e','i','o','u']\n",
    "c = [1 if alph in vow else 0 for alph in sent]\n",
    "sum(c)"
   ]
  },
  {
   "cell_type": "markdown",
   "id": "285b8918",
   "metadata": {},
   "source": [
    "#### 14. Write a program to find common characters from below strings. \n",
    "\"SMASH\", \"FLASH\""
   ]
  },
  {
   "cell_type": "code",
   "execution_count": 8,
   "id": "fa81375e",
   "metadata": {},
   "outputs": [
    {
     "data": {
      "text/plain": [
       "['H', 'S', 'F', 'L', 'A']"
      ]
     },
     "execution_count": 8,
     "metadata": {},
     "output_type": "execute_result"
    }
   ],
   "source": [
    "s1 = \"SMASH\"\n",
    "s2 = \"FLASH\"\n",
    "comchars = list(set(s1) and set(s2))\n",
    "comchars"
   ]
  },
  {
   "cell_type": "markdown",
   "id": "11ac8e2b",
   "metadata": {},
   "source": [
    "#### 15. Write a program to check whether given string is palindrome or not."
   ]
  },
  {
   "cell_type": "code",
   "execution_count": 27,
   "id": "82c391ae",
   "metadata": {},
   "outputs": [
    {
     "name": "stdout",
     "output_type": "stream",
     "text": [
      "Enter a string  :  sapas\n",
      " Given string is palindrome\n"
     ]
    }
   ],
   "source": [
    "s = input('Enter a string  :  ')\n",
    "\n",
    "if s == s[::-1]:\n",
    "    print(' Given string is palindrome')\n",
    "else:\n",
    "    print('Given string is not palindrome ')"
   ]
  },
  {
   "cell_type": "markdown",
   "id": "31cb21d3",
   "metadata": {},
   "source": [
    "#### 16. Write a program to count total number of duplicate elements from below array \n",
    "Ex: [22, 15, 63, 45, 15, 81, 22, 12] "
   ]
  },
  {
   "cell_type": "code",
   "execution_count": 37,
   "id": "2adf24c2",
   "metadata": {},
   "outputs": [
    {
     "data": {
      "text/plain": [
       "2"
      ]
     },
     "execution_count": 37,
     "metadata": {},
     "output_type": "execute_result"
    }
   ],
   "source": [
    "lis = [22, 15, 63, 45, 15, 81, 22, 12]\n",
    "ct_dup = len(lis) - len(set(lis))\n",
    "ct_dup"
   ]
  },
  {
   "cell_type": "markdown",
   "id": "8a5ef46e",
   "metadata": {},
   "source": [
    "#### 17. Write a program to find total number of elements that are exactly divisible by 10 from below array \n",
    "Ex: [22, 50, 80, 20, 46, 5]"
   ]
  },
  {
   "cell_type": "code",
   "execution_count": 10,
   "id": "ac32cfe9",
   "metadata": {},
   "outputs": [
    {
     "data": {
      "text/plain": [
       "3"
      ]
     },
     "execution_count": 10,
     "metadata": {},
     "output_type": "execute_result"
    }
   ],
   "source": [
    "lis = [22, 50, 80, 20, 46, 5]\n",
    "count = [1 if n%10==0 else 0 for n in lis]\n",
    "sum(count)"
   ]
  },
  {
   "cell_type": "markdown",
   "id": "d185db8f",
   "metadata": {},
   "source": [
    "------------------"
   ]
  },
  {
   "cell_type": "markdown",
   "id": "62d83894",
   "metadata": {},
   "source": [
    "### Suppose we have a list of integers >>> numbers = [1, 2, 3, 4, 5, 6] "
   ]
  },
  {
   "cell_type": "markdown",
   "id": "328458b7",
   "metadata": {},
   "source": [
    "#### 18.What do we need to do add 5 to each number?"
   ]
  },
  {
   "cell_type": "code",
   "execution_count": 12,
   "id": "e5913d0e",
   "metadata": {},
   "outputs": [
    {
     "data": {
      "text/plain": [
       "[6, 7, 8, 9, 10, 11]"
      ]
     },
     "execution_count": 12,
     "metadata": {},
     "output_type": "execute_result"
    }
   ],
   "source": [
    "numbers = [1, 2, 3, 4, 5, 6]\n",
    "numbers = [n+5 for n in numbers]\n",
    "numbers"
   ]
  },
  {
   "cell_type": "markdown",
   "id": "ec91e5d7",
   "metadata": {},
   "source": [
    "#### 19.What if we want to add 5 to only the second to the fifth number? "
   ]
  },
  {
   "cell_type": "code",
   "execution_count": 13,
   "id": "2746625d",
   "metadata": {},
   "outputs": [
    {
     "data": {
      "text/plain": [
       "[1, 7, 3, 4, 10, 6]"
      ]
     },
     "execution_count": 13,
     "metadata": {},
     "output_type": "execute_result"
    }
   ],
   "source": [
    "numbers = [1, 2, 3, 4, 5, 6]\n",
    "numbers[1] += 5 \n",
    "numbers[4] += 5 \n",
    "numbers"
   ]
  },
  {
   "cell_type": "markdown",
   "id": "69b261c8",
   "metadata": {},
   "source": [
    "#### 20.What if we want to add 5 to numbers with an even-numbered offsets?"
   ]
  },
  {
   "cell_type": "code",
   "execution_count": 39,
   "id": "b5a2bda7",
   "metadata": {},
   "outputs": [
    {
     "data": {
      "text/plain": [
       "[1, 7, 3, 9, 5, 11]"
      ]
     },
     "execution_count": 39,
     "metadata": {},
     "output_type": "execute_result"
    }
   ],
   "source": [
    "numbers = [1, 2, 3, 4, 5, 6]\n",
    "numbers = [i+5 if i%2==0 else i for i in numbers]\n",
    "numbers"
   ]
  },
  {
   "cell_type": "markdown",
   "id": "57a32a3f",
   "metadata": {},
   "source": [
    "#### 21.How do we take the sentence\n",
    "“Python is a great text processing language” \n",
    "and print one word on each line?"
   ]
  },
  {
   "cell_type": "code",
   "execution_count": 21,
   "id": "effd9e48",
   "metadata": {},
   "outputs": [
    {
     "name": "stdout",
     "output_type": "stream",
     "text": [
      "Python\n",
      "is\n",
      "a\n",
      "great\n",
      "text\n",
      "processing\n",
      "language\n"
     ]
    }
   ],
   "source": [
    "sen = \"Python is a great text processing language\".split(\" \")\n",
    "for i in sen :\n",
    "    print(i)"
   ]
  },
  {
   "cell_type": "markdown",
   "id": "46bf5ca3",
   "metadata": {},
   "source": [
    "--------------"
   ]
  },
  {
   "cell_type": "code",
   "execution_count": null,
   "id": "9c1c013b",
   "metadata": {},
   "outputs": [],
   "source": []
  }
 ],
 "metadata": {
  "kernelspec": {
   "display_name": "Python 3",
   "language": "python",
   "name": "python3"
  },
  "language_info": {
   "codemirror_mode": {
    "name": "ipython",
    "version": 3
   },
   "file_extension": ".py",
   "mimetype": "text/x-python",
   "name": "python",
   "nbconvert_exporter": "python",
   "pygments_lexer": "ipython3",
   "version": "3.8.8"
  }
 },
 "nbformat": 4,
 "nbformat_minor": 5
}
