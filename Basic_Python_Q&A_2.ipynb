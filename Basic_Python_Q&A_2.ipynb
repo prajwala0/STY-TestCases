{
 "cells": [
  {
   "cell_type": "markdown",
   "id": "8e600052",
   "metadata": {},
   "source": [
    "### 1.Who is Father of Python ?"
   ]
  },
  {
   "cell_type": "markdown",
   "id": "b93c5ffc",
   "metadata": {},
   "source": [
    "Guido Van Rossum is the developer and creator of the Python programming language.\n",
    "In 1991 Guido Van Rossum published the first Python code.\n",
    "\n"
   ]
  },
  {
   "cell_type": "markdown",
   "id": "2883a8e0",
   "metadata": {},
   "source": [
    "### 2. Difference Between ( Interactive Shell & Script Mode) ?"
   ]
  },
  {
   "cell_type": "markdown",
   "id": "169fb4ce",
   "metadata": {},
   "source": [
    "Script Mode, is used when the user is working with more than one single code or a block of code. \n",
    "\n",
    "Interactive mode is used when an user wants to run one single line or one block of code. \n",
    "\n",
    "If one needs to write a long piece of Python code or if the Python script spans multiple files, interactive mode is not recommended. In script mode, You write your code in a text file then save it with a .py extension."
   ]
  },
  {
   "cell_type": "markdown",
   "id": "8e066050",
   "metadata": {},
   "source": [
    "### 3. What Is Data ?   What are DataTypes ?   List Types of Data Generated ?"
   ]
  },
  {
   "cell_type": "markdown",
   "id": "323dc83c",
   "metadata": {},
   "source": [
    "##### Data :\n",
    "Data is a set of values that represent measurements or observations.\n",
    "##### DataTypes:\n",
    "    Data can be classified as qualitative and quantitative. \n",
    "        Qualitative data represents some characteristics or attributes.\n",
    "        Quantitative data which we can measure and not just observe.\n",
    "##### Types of Data Generated :   \n",
    "    Nominal data is a type of data that consists of categories that cannot be ordered.\n",
    "    Ordinal data is a type of data that can be ordered but not necessarily measured.\n",
    "    Discrete data contains only a finite number of possible values. \n",
    "    Continuous data Continuous data is data that can be calculated."
   ]
  },
  {
   "cell_type": "markdown",
   "id": "c00a1893",
   "metadata": {},
   "source": [
    "### 4.What is Database ?"
   ]
  },
  {
   "cell_type": "markdown",
   "id": "3ac88ac5",
   "metadata": {},
   "source": [
    "A database is an organized collection of structured information, or data, typically stored electronically in a computer system.\n",
    "It is a collection of indexed digital information\n",
    "\n",
    "Python supports various databases like SQLite, MySQL, Oracle, Sybase, PostgreSQL, etc. Python also supports Data Definition Language (DDL), Data Manipulation Language (DML) and Data Query Statements."
   ]
  },
  {
   "cell_type": "markdown",
   "id": "95b0498d",
   "metadata": {},
   "source": [
    "### 5.How to Concate Or Combine String ?"
   ]
  },
  {
   "cell_type": "code",
   "execution_count": 1,
   "id": "60b98514",
   "metadata": {},
   "outputs": [
    {
     "name": "stdout",
     "output_type": "stream",
     "text": [
      "Enter first string : one\n",
      "Enter second string : two\n",
      "one two\n"
     ]
    }
   ],
   "source": [
    "s1 = input('Enter first string : ')\n",
    "s2 = input('Enter second string : ')\n",
    "conc = s1+' '+s2\n",
    "print(conc)"
   ]
  },
  {
   "cell_type": "markdown",
   "id": "ff92acc4",
   "metadata": {},
   "source": [
    "### 6.How to remove spaces from the string ? ( rstrip(),lstrip(),strip() )"
   ]
  },
  {
   "cell_type": "code",
   "execution_count": 2,
   "id": "3b6d8fce",
   "metadata": {},
   "outputs": [
    {
     "name": "stdout",
     "output_type": "stream",
     "text": [
      "string          :  '  shark  '\n",
      "remove trailing :  '  shark'\n",
      "remove leading  :  'shark  '\n",
      "remove both     :  'shark'\n"
     ]
    }
   ],
   "source": [
    "s = '  shark  '\n",
    "s_r = s.rstrip()\n",
    "s_l = s.lstrip()\n",
    "s_s = s.strip()\n",
    "\n",
    "print(f\"string          :  '{s}'\")\n",
    "print(f\"remove trailing :  '{s_r}'\")\n",
    "print(f\"remove leading  :  '{s_l}'\")\n",
    "print(f\"remove both     :  '{s_s}'\")"
   ]
  },
  {
   "cell_type": "markdown",
   "id": "33609665",
   "metadata": {},
   "source": [
    "### 7.How to (add / delete / indexing) in List & Tuple with examples ?"
   ]
  },
  {
   "cell_type": "markdown",
   "id": "b0861fad",
   "metadata": {},
   "source": [
    "#### List"
   ]
  },
  {
   "cell_type": "markdown",
   "id": "ac69e79a",
   "metadata": {},
   "source": [
    "There are four methods to add elements to a List in Python.\n",
    "\n",
    "    append()    :    Adds an element at the end of the list\n",
    "    insert() : inserts an item at the specified index\n",
    "    extend(): extends the list by appending elements from the iterable (lists, tuples, sets, dictionaries etc.)\n",
    "    List Concatenation: We can use the + operator to concatenate multiple lists and create a new list"
   ]
  },
  {
   "cell_type": "code",
   "execution_count": 3,
   "id": "70d39a3a",
   "metadata": {},
   "outputs": [
    {
     "name": "stdout",
     "output_type": "stream",
     "text": [
      "append method :  ['apple', 'banana', 'cherry', 'orange']\n",
      "insert method :  ['apple', 'orange', 'banana', 'cherry']\n",
      "extend method :  ['apple', 'banana', 'cherry', 'kiwi', 'orange']\n",
      "concat method :  ['apple', 'banana', 'cherry', 'water melon']\n"
     ]
    }
   ],
   "source": [
    "list = [\"apple\", \"banana\", \"cherry\"]\n",
    "list.append(\"orange\")\n",
    "print('append method : ',list)\n",
    "\n",
    "list = [\"apple\", \"banana\", \"cherry\"]\n",
    "list.insert(1, \"orange\")\n",
    "print('insert method : ',list)\n",
    "\n",
    "list = [\"apple\", \"banana\", \"cherry\"]\n",
    "tuple = (\"kiwi\", \"orange\")\n",
    "list.extend(tuple)\n",
    "print('extend method : ',list)\n",
    "\n",
    "list1 = [\"apple\", \"banana\", \"cherry\"]\n",
    "list2 = [\"water melon\"]\n",
    "list = list1+list2\n",
    "print('concat method : ',list)"
   ]
  },
  {
   "cell_type": "markdown",
   "id": "d982ab37",
   "metadata": {},
   "source": [
    "\n",
    "There are four methods to remove an object/element from a list using Python.\n",
    "\n",
    "    clear()  :  Remove all items from a list\n",
    "    pop()    :  Remove an item by index and get its value\n",
    "    remove() :  Remove an item by value\n",
    "    del      :  Remove items by index or slice"
   ]
  },
  {
   "cell_type": "code",
   "execution_count": 4,
   "id": "24b661f5",
   "metadata": {},
   "outputs": [
    {
     "name": "stdout",
     "output_type": "stream",
     "text": [
      "clear method :  []\n",
      "pop method with specified index:  ['apple', 'cherry', 'orange']\n",
      "pop method without specified index:  ['apple', 'cherry']\n",
      "remove method :  ['apple', 'banana', 'cherry']\n",
      "del method :  ['apple', 'cherry', 'orange']\n"
     ]
    }
   ],
   "source": [
    "list = [\"apple\", \"banana\", \"cherry\", \"orange\"]\n",
    "list.clear()\n",
    "print('clear method : ',list)\n",
    "\n",
    "list = [\"apple\", \"banana\", \"cherry\", \"orange\"]\n",
    "list.pop(1)\n",
    "print('pop method with specified index: ',list)\n",
    "list.pop()\n",
    "print('pop method without specified index: ',list)\n",
    "\n",
    "list = [\"apple\", \"banana\", \"cherry\", \"orange\"]\n",
    "list.remove(\"orange\")\n",
    "print('remove method : ',list)\n",
    "\n",
    "list = [\"apple\", \"banana\", \"cherry\", \"orange\"]\n",
    "del list[1]\n",
    "print('del method : ',list)"
   ]
  },
  {
   "cell_type": "markdown",
   "id": "49f4311a",
   "metadata": {},
   "source": [
    "\n",
    "index() : returns the position at the first occurrence of the specified value."
   ]
  },
  {
   "cell_type": "code",
   "execution_count": 5,
   "id": "59a317dd",
   "metadata": {},
   "outputs": [
    {
     "name": "stdout",
     "output_type": "stream",
     "text": [
      "2\n"
     ]
    }
   ],
   "source": [
    "fruits = ['apple', 'banana', 'cherry']\n",
    "x = fruits.index(\"cherry\")\n",
    "print(x)"
   ]
  },
  {
   "cell_type": "markdown",
   "id": "39deb617",
   "metadata": {},
   "source": [
    "#### Tuple"
   ]
  },
  {
   "cell_type": "markdown",
   "id": "54ce8a4b",
   "metadata": {},
   "source": [
    "To join two or more tuples you can use the + operator"
   ]
  },
  {
   "cell_type": "code",
   "execution_count": 6,
   "id": "ac9aa458",
   "metadata": {},
   "outputs": [
    {
     "name": "stdout",
     "output_type": "stream",
     "text": [
      "('a', 'b', 'c', 1, 2, 3)\n"
     ]
    }
   ],
   "source": [
    "tuple1 = (\"a\", \"b\" , \"c\")\n",
    "tuple2 = (1, 2, 3)\n",
    "tuple3 = tuple1 + tuple2\n",
    "print(tuple3)"
   ]
  },
  {
   "cell_type": "markdown",
   "id": "6c4bcadf",
   "metadata": {},
   "source": [
    "The del keyword can delete the tuple completely"
   ]
  },
  {
   "cell_type": "code",
   "execution_count": 7,
   "id": "785a17b6",
   "metadata": {},
   "outputs": [
    {
     "ename": "NameError",
     "evalue": "name 'thistuple' is not defined",
     "output_type": "error",
     "traceback": [
      "\u001b[1;31m---------------------------------------------------------------------------\u001b[0m",
      "\u001b[1;31mNameError\u001b[0m                                 Traceback (most recent call last)",
      "\u001b[1;32m<ipython-input-7-8a57ed92fc5d>\u001b[0m in \u001b[0;36m<module>\u001b[1;34m\u001b[0m\n\u001b[0;32m      1\u001b[0m \u001b[0mthistuple\u001b[0m \u001b[1;33m=\u001b[0m \u001b[1;33m(\u001b[0m\u001b[1;34m\"apple\"\u001b[0m\u001b[1;33m,\u001b[0m \u001b[1;34m\"banana\"\u001b[0m\u001b[1;33m,\u001b[0m \u001b[1;34m\"cherry\"\u001b[0m\u001b[1;33m)\u001b[0m\u001b[1;33m\u001b[0m\u001b[1;33m\u001b[0m\u001b[0m\n\u001b[0;32m      2\u001b[0m \u001b[1;32mdel\u001b[0m \u001b[0mthistuple\u001b[0m\u001b[1;33m\u001b[0m\u001b[1;33m\u001b[0m\u001b[0m\n\u001b[1;32m----> 3\u001b[1;33m \u001b[0mprint\u001b[0m\u001b[1;33m(\u001b[0m\u001b[0mthistuple\u001b[0m\u001b[1;33m)\u001b[0m \u001b[1;31m#this will raise an error because the tuple no longer exists\u001b[0m\u001b[1;33m\u001b[0m\u001b[1;33m\u001b[0m\u001b[0m\n\u001b[0m",
      "\u001b[1;31mNameError\u001b[0m: name 'thistuple' is not defined"
     ]
    }
   ],
   "source": [
    "thistuple = (\"apple\", \"banana\", \"cherry\")\n",
    "del thistuple\n",
    "print(thistuple) #this will raise an error because the tuple no longer exists"
   ]
  },
  {
   "cell_type": "markdown",
   "id": "eb6d85a8",
   "metadata": {},
   "source": [
    "index()  :  Searches the tuple for a specified value and returns the position of where it was found"
   ]
  },
  {
   "cell_type": "code",
   "execution_count": 8,
   "id": "68e1a4bf",
   "metadata": {},
   "outputs": [
    {
     "name": "stdout",
     "output_type": "stream",
     "text": [
      "3\n"
     ]
    }
   ],
   "source": [
    "thistuple = (1, 3, 7, 8, 7, 5, 4, 6, 8, 5)\n",
    "x = thistuple.index(8)\n",
    "print(x)"
   ]
  },
  {
   "cell_type": "markdown",
   "id": "7cc131a1",
   "metadata": {},
   "source": [
    "### 8.Organize List with example ? "
   ]
  },
  {
   "cell_type": "code",
   "execution_count": 9,
   "id": "682142dd",
   "metadata": {},
   "outputs": [
    {
     "name": "stdout",
     "output_type": "stream",
     "text": [
      "sort method             :  ['banana', 'kiwi', 'mango', 'orange', 'pineapple']\n",
      "reverse method          :  ['banana', 'pineapple', 'kiwi', 'mango', 'orange']\n",
      "sort and reverse method :  ['pineapple', 'orange', 'mango', 'kiwi', 'banana']\n"
     ]
    }
   ],
   "source": [
    "list = [\"orange\", \"mango\", \"kiwi\", \"pineapple\", \"banana\"]\n",
    "list.sort()\n",
    "print('sort method             : ',list)\n",
    "\n",
    "list = [\"orange\", \"mango\", \"kiwi\", \"pineapple\", \"banana\"]\n",
    "list.reverse()\n",
    "print('reverse method          : ',list)\n",
    "\n",
    "list = [\"orange\", \"mango\", \"kiwi\", \"pineapple\", \"banana\"]\n",
    "list.sort(reverse = True)\n",
    "print('sort and reverse method : ',list)"
   ]
  },
  {
   "cell_type": "code",
   "execution_count": 10,
   "id": "81981492",
   "metadata": {},
   "outputs": [
    {
     "name": "stdout",
     "output_type": "stream",
     "text": [
      "['Mitsubishi', 'Ford', 'BMW', 'VW']\n"
     ]
    }
   ],
   "source": [
    "def myFunc(e):\n",
    "  return len(e)\n",
    "\n",
    "cars = ['Ford', 'Mitsubishi', 'BMW', 'VW']\n",
    "cars.sort(reverse=True, key=myFunc)\n",
    "print(cars)"
   ]
  },
  {
   "cell_type": "markdown",
   "id": "d3e324b3",
   "metadata": {},
   "source": [
    "### 9.. What is slicing ? Brief ?\n",
    "\n",
    "    The slice() function returns a slice object.\n",
    "    Syntax : slice(start, end, step)"
   ]
  },
  {
   "cell_type": "code",
   "execution_count": 11,
   "id": "b621c4e7",
   "metadata": {},
   "outputs": [
    {
     "name": "stdout",
     "output_type": "stream",
     "text": [
      "tuple slice :  ('a', 'd', 'g')\n",
      "list slice :  [1, 2, 3]\n",
      "string slice using indexing :  llo\n"
     ]
    }
   ],
   "source": [
    "t = (\"a\", \"b\", \"c\", \"d\", \"e\", \"f\", \"g\", \"h\")\n",
    "x = slice(0, 8, 3)\n",
    "print('tuple slice : ',t[x])\n",
    "\n",
    "L = [1, 2, 3, 4, 5]\n",
    "x = slice(3)\n",
    "print('list slice : ',L[x])\n",
    "\n",
    "s = \"Hello, World!\"\n",
    "print('string slice using indexing : ',s[2:5])"
   ]
  },
  {
   "cell_type": "markdown",
   "id": "2f1e90b4",
   "metadata": {},
   "source": [
    "### 10. What is Loop ? Explain types with example ? What is difference between for loop and while loop in python ?"
   ]
  },
  {
   "cell_type": "markdown",
   "id": "9d5b09a7",
   "metadata": {},
   "source": [
    "##### Loop\n",
    "A loop is an instruction that repeats multiple times as long as some condition is met.\n",
    "##### Type of Loops\n",
    "There are mainly two types of loops.\n",
    "\n",
    "##### 1. For Loop\n",
    "A for loop in Python is used to iterate over a sequence (list, tuple, set, dictionary, and string).\n",
    "##### Syntax: \n",
    "    for iterating_var in sequence:  \n",
    "        statement(s) \n",
    "\n",
    "##### 2. While Loop\n",
    "The while loop is used to execute a set of statements as long as a condition is true.\n",
    "##### Syntax:\n",
    "    while expression:\n",
    "        statement(s)"
   ]
  },
  {
   "cell_type": "code",
   "execution_count": 12,
   "id": "e114ac98",
   "metadata": {},
   "outputs": [
    {
     "name": "stdout",
     "output_type": "stream",
     "text": [
      "2 3 5 7 \n",
      "0 1 2 3 4 "
     ]
    }
   ],
   "source": [
    "primes = [2, 3, 5, 7]\n",
    "for prime in primes:\n",
    "    print(prime, end =' ')\n",
    "print()\n",
    "    \n",
    "\n",
    "count = 0\n",
    "while count < 5:\n",
    "    print(count, end =' ')\n",
    "    count += 1"
   ]
  },
  {
   "cell_type": "markdown",
   "id": "5fd3d758",
   "metadata": {},
   "source": [
    "### 11. Explain with example (Break / Continue / Pass)?"
   ]
  },
  {
   "cell_type": "markdown",
   "id": "49ddc055",
   "metadata": {},
   "source": [
    "The break statement in Python is used to terminate the loop or statement in which it is present."
   ]
  },
  {
   "cell_type": "code",
   "execution_count": 13,
   "id": "4656a7a1",
   "metadata": {},
   "outputs": [
    {
     "name": "stdout",
     "output_type": "stream",
     "text": [
      "Current Letter : P\n",
      "Current Letter : y\n",
      "Current Letter : t\n"
     ]
    }
   ],
   "source": [
    "for letter in 'Python':\n",
    "    if letter == 'h':\n",
    "        break\n",
    "    print('Current Letter :', letter)"
   ]
  },
  {
   "cell_type": "markdown",
   "id": "1b1ac45f",
   "metadata": {},
   "source": [
    "The continue statement in Python returns the control to the beginning of the while loop. \n",
    "The continue statement rejects all the remaining statements in the current iteration of the loop and moves the control back to the top of the loop."
   ]
  },
  {
   "cell_type": "code",
   "execution_count": 14,
   "id": "9a1c0972",
   "metadata": {},
   "outputs": [
    {
     "name": "stdout",
     "output_type": "stream",
     "text": [
      "Current Letter : P\n",
      "Current Letter : y\n",
      "Current Letter : t\n",
      "Current Letter : o\n",
      "Current Letter : n\n"
     ]
    }
   ],
   "source": [
    "for letter in 'Python':\n",
    "    if letter == 'h':\n",
    "        continue\n",
    "    print('Current Letter :', letter)"
   ]
  },
  {
   "cell_type": "markdown",
   "id": "01a762f7",
   "metadata": {},
   "source": [
    "The pass statement in Python is used when a statement is required syntactically but you do not want any command or code to execute."
   ]
  },
  {
   "cell_type": "code",
   "execution_count": 15,
   "id": "f4ae0a94",
   "metadata": {},
   "outputs": [
    {
     "name": "stdout",
     "output_type": "stream",
     "text": [
      "Current Letter : P\n",
      "Current Letter : y\n",
      "Current Letter : t\n",
      "This is pass block\n",
      "Current Letter : h\n",
      "Current Letter : o\n",
      "Current Letter : n\n"
     ]
    }
   ],
   "source": [
    "for letter in 'Python': \n",
    "    if letter == 'h':\n",
    "        pass\n",
    "        print('This is pass block')\n",
    "    print('Current Letter :', letter)"
   ]
  },
  {
   "cell_type": "markdown",
   "id": "0e67f7e4",
   "metadata": {},
   "source": [
    "### 12 Explain If / Elif / Else with example ?"
   ]
  },
  {
   "cell_type": "markdown",
   "id": "77ca6a96",
   "metadata": {},
   "source": [
    "###### If statement : \n",
    "It is used to decide whether a certain statement or block of statements will be executed or not."
   ]
  },
  {
   "cell_type": "code",
   "execution_count": 16,
   "id": "6da5d14a",
   "metadata": {},
   "outputs": [
    {
     "name": "stdout",
     "output_type": "stream",
     "text": [
      "b is greater than a\n"
     ]
    }
   ],
   "source": [
    "a = 33\n",
    "b = 200\n",
    "if b > a:\n",
    "    print(\"b is greater than a\")"
   ]
  },
  {
   "cell_type": "markdown",
   "id": "571fdbfb",
   "metadata": {},
   "source": [
    "###### Elif Statement\n",
    "If the previous conditions were not true, then elif condition will be executed."
   ]
  },
  {
   "cell_type": "code",
   "execution_count": 17,
   "id": "074e73e1",
   "metadata": {},
   "outputs": [
    {
     "name": "stdout",
     "output_type": "stream",
     "text": [
      "a and b are equal\n"
     ]
    }
   ],
   "source": [
    "a = 33\n",
    "b = 33\n",
    "if b > a:\n",
    "    print(\"b is greater than a\")\n",
    "elif a == b:\n",
    "    print(\"a and b are equal\")"
   ]
  },
  {
   "cell_type": "markdown",
   "id": "61cfeeb3",
   "metadata": {},
   "source": [
    "###### Else Statement:\n",
    "The else keyword catches anything which isn't caught by the preceding conditions."
   ]
  },
  {
   "cell_type": "code",
   "execution_count": 18,
   "id": "a469e267",
   "metadata": {},
   "outputs": [
    {
     "name": "stdout",
     "output_type": "stream",
     "text": [
      "a is greater than b\n"
     ]
    }
   ],
   "source": [
    "a = 200\n",
    "b = 33\n",
    "if b > a:\n",
    "  print(\"b is greater than a\")\n",
    "elif a == b:\n",
    "  print(\"a and b are equal\")\n",
    "else:\n",
    "  print(\"a is greater than b\")"
   ]
  },
  {
   "cell_type": "markdown",
   "id": "ab32364f",
   "metadata": {},
   "source": [
    "### 13. What is function in Python ? What is Function Argument ? Explain different types of Function Argument ? "
   ]
  },
  {
   "cell_type": "markdown",
   "id": "1527e9d4",
   "metadata": {},
   "source": [
    "###### Function\n",
    "A function is a block of code that performs a specific task.\n",
    "\n",
    "The terms parameter and argument can be used for the same thing: information that are passed into a function.\n",
    "\n",
    "From a function's perspective:\n",
    "\n",
    "    A parameter is the variable listed inside the parentheses in the function definition.\n",
    "    An argument is the value that are sent to the function when it is called."
   ]
  },
  {
   "cell_type": "markdown",
   "id": "d8e74da2",
   "metadata": {},
   "source": [
    "###### Types of Python Function Arguments :\n",
    "Python supports various types of arguments that can be passed at the time of the function call. \n",
    "\n",
    "In Python, we have the following 4 types of function arguments.\n",
    "\n",
    "    Default argument\n",
    "    Keyword arguments (named arguments)\n",
    "    Positional arguments\n",
    "    Arbitrary arguments (variable-length arguments *args and **kwargs)"
   ]
  },
  {
   "cell_type": "markdown",
   "id": "452f1604",
   "metadata": {},
   "source": [
    "###### Default Arguments\n",
    "A default argument is a parameter that assumes a default value if a value is not provided in the function call for that argument"
   ]
  },
  {
   "cell_type": "code",
   "execution_count": 19,
   "id": "09aec8bd",
   "metadata": {},
   "outputs": [
    {
     "name": "stdout",
     "output_type": "stream",
     "text": [
      "x:  10\n",
      "y:  50\n"
     ]
    }
   ],
   "source": [
    "def myFun(x, y=50):\n",
    "    print(\"x: \", x)\n",
    "    print(\"y: \", y)\n",
    "    \n",
    "myFun(10)"
   ]
  },
  {
   "cell_type": "markdown",
   "id": "3c57354f",
   "metadata": {},
   "source": [
    "###### Keyword Arguments\n",
    "The idea is to allow the caller to specify the argument name with values so that the caller does not need to remember the order of parameters."
   ]
  },
  {
   "cell_type": "code",
   "execution_count": 20,
   "id": "e8e63857",
   "metadata": {},
   "outputs": [
    {
     "name": "stdout",
     "output_type": "stream",
     "text": [
      "Anushka Shetty\n",
      "Anushka Shetty\n"
     ]
    }
   ],
   "source": [
    "def student(firstname, lastname):\n",
    "    print(firstname, lastname)\n",
    "\n",
    "student(firstname='Anushka', lastname='Shetty')\n",
    "student(lastname='Shetty', firstname='Anushka')"
   ]
  },
  {
   "cell_type": "markdown",
   "id": "3580b69d",
   "metadata": {},
   "source": [
    "###### Positional arguments\n",
    "During a function call, values passed through arguments should be in the order of parameters in the function definition."
   ]
  },
  {
   "cell_type": "code",
   "execution_count": 21,
   "id": "09be8101",
   "metadata": {},
   "outputs": [
    {
     "name": "stdout",
     "output_type": "stream",
     "text": [
      "Case-1:\n",
      "Hi, I am Suraj\n",
      "My age is  27\n",
      "\n",
      "Case-2:\n",
      "Hi, I am 27\n",
      "My age is  Suraj\n"
     ]
    }
   ],
   "source": [
    "def nameAge(name, age):\n",
    "    print(\"Hi, I am\", name)\n",
    "    print(\"My age is \", age)\n",
    "\n",
    "# You will get correct output because argument is given in order\n",
    "print(\"Case-1:\")\n",
    "nameAge(\"Suraj\", 27)\n",
    "# You will get incorrect output because argument is not in order\n",
    "print(\"\\nCase-2:\")\n",
    "nameAge(27, \"Suraj\")"
   ]
  },
  {
   "cell_type": "markdown",
   "id": "bd52f85f",
   "metadata": {},
   "source": [
    "###### Arbitrary Arguments\n",
    "In Python Arbitrary Keyword Arguments, *args, and **kwargs can pass a variable number of arguments to a function using special symbols. \n",
    "There are two special symbols:\n",
    "\n",
    "    *args in Python (Non-Keyword Arguments)\n",
    "    **kwargs in Python (Keyword Arguments)"
   ]
  },
  {
   "cell_type": "markdown",
   "id": "d6558604",
   "metadata": {},
   "source": [
    "Example 1: Variable length non-keywords argument"
   ]
  },
  {
   "cell_type": "code",
   "execution_count": 22,
   "id": "44a5f74c",
   "metadata": {},
   "outputs": [
    {
     "name": "stdout",
     "output_type": "stream",
     "text": [
      "Hello\n",
      "Welcome\n",
      "to\n",
      "GeeksforGeeks\n"
     ]
    }
   ],
   "source": [
    "def myFun(*argv):\n",
    "    for arg in argv:\n",
    "        print(arg)\n",
    "\n",
    "myFun('Hello', 'Welcome', 'to', 'GeeksforGeeks')"
   ]
  },
  {
   "cell_type": "markdown",
   "id": "fcee04cf",
   "metadata": {},
   "source": [
    "Example 2: Variable length keyword arguments "
   ]
  },
  {
   "cell_type": "code",
   "execution_count": 23,
   "id": "b2f67bc1",
   "metadata": {},
   "outputs": [
    {
     "name": "stdout",
     "output_type": "stream",
     "text": [
      "first == Geeks\n",
      "mid == for\n",
      "last == Geeks\n"
     ]
    }
   ],
   "source": [
    "def myFun(**kwargs):\n",
    "    for key, value in kwargs.items():\n",
    "        print(\"%s == %s\" % (key, value))\n",
    "        \n",
    "myFun(first='Geeks', mid='for', last='Geeks')"
   ]
  },
  {
   "cell_type": "markdown",
   "id": "02597a74",
   "metadata": {},
   "source": [
    "### 14. Difference between Global / Local Variables ?"
   ]
  },
  {
   "cell_type": "markdown",
   "id": "e87925e8",
   "metadata": {},
   "source": [
    "Python Global variables are those which are not defined inside any function and have a global scope whereas Python local variables are those which are defined inside a function and their scope is limited to that function only."
   ]
  },
  {
   "cell_type": "markdown",
   "id": "6f736354",
   "metadata": {},
   "source": [
    "###### Local"
   ]
  },
  {
   "cell_type": "code",
   "execution_count": 24,
   "id": "d85f8f43",
   "metadata": {},
   "outputs": [
    {
     "name": "stdout",
     "output_type": "stream",
     "text": [
      "10\n"
     ]
    }
   ],
   "source": [
    "def fun():\n",
    "    a = 10\n",
    "    print(a)\n",
    "fun()"
   ]
  },
  {
   "cell_type": "markdown",
   "id": "83eb142e",
   "metadata": {},
   "source": [
    "###### Global"
   ]
  },
  {
   "cell_type": "code",
   "execution_count": 25,
   "id": "7b4b05c5",
   "metadata": {},
   "outputs": [
    {
     "name": "stdout",
     "output_type": "stream",
     "text": [
      "10\n"
     ]
    }
   ],
   "source": [
    "a = 10\n",
    "\n",
    "def fun():\n",
    "    global a\n",
    "    print(a)\n",
    "    \n",
    "fun()"
   ]
  },
  {
   "cell_type": "markdown",
   "id": "04924e2a",
   "metadata": {},
   "source": [
    "-----------------------------"
   ]
  },
  {
   "cell_type": "markdown",
   "id": "f768e379",
   "metadata": {},
   "source": [
    "### 15.Write a program to find biggest of given 2 numbers from the command prompt?"
   ]
  },
  {
   "cell_type": "code",
   "execution_count": 27,
   "id": "35cf7440",
   "metadata": {},
   "outputs": [
    {
     "name": "stdout",
     "output_type": "stream",
     "text": [
      "Enter first number : 54\n",
      "Enter second number : 33\n",
      "54  is biggest of given 2 numbers\n"
     ]
    }
   ],
   "source": [
    "num1 = int(input('Enter first number : '))\n",
    "num2 = int(input('Enter second number : '))\n",
    "\n",
    "if num1 > num2 :\n",
    "    print(num1, ' is biggest of given 2 numbers')\n",
    "elif num1 < num2 :\n",
    "    print(num2, ' is biggest of given 2 numbers')\n",
    "else :\n",
    "    print('Two input numbers are equal')"
   ]
  },
  {
   "cell_type": "markdown",
   "id": "b241972e",
   "metadata": {},
   "source": [
    "### 16.Write a program to find biggest of given 3 numbers from the command prompt ?"
   ]
  },
  {
   "cell_type": "code",
   "execution_count": 28,
   "id": "cba8b954",
   "metadata": {},
   "outputs": [
    {
     "name": "stdout",
     "output_type": "stream",
     "text": [
      "Enter first number : 2\n",
      "Enter second number : 3\n",
      "Enter third number : 5\n",
      "5 is biggest of given 3 numbers\n"
     ]
    }
   ],
   "source": [
    "num1 = int(input('Enter first number : '))\n",
    "num2 = int(input('Enter second number : '))\n",
    "num3 = int(input('Enter third number : '))\n",
    "\n",
    "num = max(num1, num2, num3)\n",
    "print(num, 'is biggest of given 3 numbers')"
   ]
  },
  {
   "cell_type": "markdown",
   "id": "c800d257",
   "metadata": {},
   "source": [
    "### 17.Write a program to check whether the given number is in between 1 and 100 ?"
   ]
  },
  {
   "cell_type": "code",
   "execution_count": 29,
   "id": "147aaa67",
   "metadata": {},
   "outputs": [
    {
     "name": "stdout",
     "output_type": "stream",
     "text": [
      "Enter input number : 34\n",
      "Given number  34  is in between 1 and 100\n"
     ]
    }
   ],
   "source": [
    "n = int(input('Enter input number : '))\n",
    "if n>1 and n<100 :\n",
    "    print('Given number ',n, ' is in between 1 and 100')\n",
    "else:\n",
    "    print('Given number ',n, ' is not in between 1 and 100')"
   ]
  },
  {
   "cell_type": "markdown",
   "id": "f49a0ce6",
   "metadata": {},
   "source": [
    "### 18.Write a program to take a single digit number from the key board and print is value in English word ?"
   ]
  },
  {
   "cell_type": "code",
   "execution_count": 30,
   "id": "1ed5507f",
   "metadata": {},
   "outputs": [
    {
     "name": "stdout",
     "output_type": "stream",
     "text": [
      "Enter input number : 7\n",
      "Output English word :  Seven\n"
     ]
    }
   ],
   "source": [
    "d = {0:'Zero', \n",
    "    1 : 'One',\n",
    "    2 : 'Two',\n",
    "    3 : 'Three',\n",
    "    4 : 'Four',\n",
    "    5 : 'Five',\n",
    "    6 : 'Six',\n",
    "    7 : 'Seven',\n",
    "    8 : 'Eight',\n",
    "    9 : 'Nine'}\n",
    "\n",
    "n = int(input('Enter input number : '))\n",
    "print('Output English word : ',d[n])"
   ]
  },
  {
   "cell_type": "markdown",
   "id": "575c5fcf",
   "metadata": {},
   "source": [
    "### 19.While – Loop : (Write a program to display *’s in right Angled Triangled Form ?"
   ]
  },
  {
   "cell_type": "code",
   "execution_count": 31,
   "id": "9b45ce97",
   "metadata": {},
   "outputs": [
    {
     "name": "stdout",
     "output_type": "stream",
     "text": [
      "\n",
      "*\n",
      "**\n",
      "***\n",
      "****\n",
      "*****\n"
     ]
    }
   ],
   "source": [
    "n = 5\n",
    "for i in range(n+1):\n",
    "    print(i*'*')"
   ]
  },
  {
   "cell_type": "markdown",
   "id": "828e6cc7",
   "metadata": {},
   "source": [
    "### 20.(Alternate Way) - While – Loop : (Write a program to display *’s in right Angled Triangled Form ?"
   ]
  },
  {
   "cell_type": "code",
   "execution_count": 32,
   "id": "66f7453e",
   "metadata": {},
   "outputs": [
    {
     "name": "stdout",
     "output_type": "stream",
     "text": [
      "\n",
      "*\n",
      "**\n",
      "***\n",
      "****\n",
      "*****\n"
     ]
    }
   ],
   "source": [
    "n = 0\n",
    "while n < 6:\n",
    "    print('*'*n)\n",
    "    n += 1"
   ]
  },
  {
   "cell_type": "markdown",
   "id": "0622ef70",
   "metadata": {},
   "source": [
    "### 21.Write a program to display *’s in pyramid style (Also known as Quivalent Triangle) ?"
   ]
  },
  {
   "cell_type": "code",
   "execution_count": 33,
   "id": "0990e749",
   "metadata": {},
   "outputs": [
    {
     "name": "stdout",
     "output_type": "stream",
     "text": [
      "      \n",
      "     * \n",
      "    * * \n",
      "   * * * \n",
      "  * * * * \n",
      " * * * * * \n"
     ]
    }
   ],
   "source": [
    "n = 5\n",
    "for i in range(n+1):\n",
    "    print(' '*(n), '* '*i)\n",
    "    n -=1  "
   ]
  },
  {
   "cell_type": "markdown",
   "id": "7bde5e29",
   "metadata": {},
   "source": [
    "### 22.Write a program to access each character of string in Forward and Backward Direction by using while loop ?"
   ]
  },
  {
   "cell_type": "code",
   "execution_count": 34,
   "id": "e09a471b",
   "metadata": {},
   "outputs": [
    {
     "name": "stdout",
     "output_type": "stream",
     "text": [
      "Input string : kite\n",
      "Accessing each charcter in forward direction\n",
      "k\n",
      "i\n",
      "t\n",
      "e\n",
      "Accessing each charcter in backward direction\n",
      "e\n",
      "t\n",
      "i\n",
      "k\n"
     ]
    }
   ],
   "source": [
    "inp_str = input('Input string : ')\n",
    "\n",
    "s = inp_str\n",
    "print(\"Accessing each charcter in forward direction\")\n",
    "while len(s)>0 :\n",
    "    print(s[0])\n",
    "    s = s[1:]\n",
    "\n",
    "s = inp_str\n",
    "print(\"Accessing each charcter in backward direction\")\n",
    "while len(s)>0 :\n",
    "    print(s[-1])\n",
    "    s = s[:-1]"
   ]
  },
  {
   "cell_type": "markdown",
   "id": "18c719ee",
   "metadata": {},
   "source": [
    "### 24.(Alternate) Write a program to access each character of string in Forward and Backward Direction by using while loop ?"
   ]
  },
  {
   "cell_type": "code",
   "execution_count": 38,
   "id": "43a9b56f",
   "metadata": {},
   "outputs": [
    {
     "name": "stdout",
     "output_type": "stream",
     "text": [
      "Input string : kite\n",
      "Accessing each charcter in forward direction\n",
      "k\n",
      "i\n",
      "t\n",
      "e\n",
      "Accessing each charcter in backward direction\n",
      "e\n",
      "t\n",
      "i\n",
      "k\n"
     ]
    }
   ],
   "source": [
    "inp_str = input('Input string : ')\n",
    "\n",
    "print(\"Accessing each charcter in forward direction\")\n",
    "for i in inp_str :\n",
    "    print(i)\n",
    "\n",
    "print(\"Accessing each charcter in backward direction\")\n",
    "s = \"\".join(reversed(inp_str))\n",
    "for i in s :\n",
    "    print(i)"
   ]
  },
  {
   "cell_type": "markdown",
   "id": "844b5d44",
   "metadata": {},
   "source": [
    "### 25.Write a program to reverse the given String ?"
   ]
  },
  {
   "cell_type": "code",
   "execution_count": 39,
   "id": "1b3c86f3",
   "metadata": {},
   "outputs": [
    {
     "name": "stdout",
     "output_type": "stream",
     "text": [
      "Enter input string to be reversed : \n",
      "Input  : kites\n",
      "Output :  setik\n"
     ]
    }
   ],
   "source": [
    "print('Enter input string to be reversed : ')\n",
    "s = input('Input  : ')\n",
    "s = s[::-1]\n",
    "print('Output : ', s)"
   ]
  },
  {
   "cell_type": "markdown",
   "id": "8f769430",
   "metadata": {},
   "source": [
    "----------------------"
   ]
  },
  {
   "cell_type": "markdown",
   "id": "50c41e0b",
   "metadata": {},
   "source": [
    "### 26.Write the program to reverse order of words ?"
   ]
  },
  {
   "cell_type": "code",
   "execution_count": 40,
   "id": "7cafaa36",
   "metadata": {},
   "outputs": [
    {
     "name": "stdout",
     "output_type": "stream",
     "text": [
      "Enter input sentence to be reversed : \n",
      "Input  : reverse order of words\n",
      "Output :  words of order reverse\n"
     ]
    }
   ],
   "source": [
    "print('Enter input sentence to be reversed : ')\n",
    "sen = input('Input  : ')\n",
    "sen = sen.split(' ')[::-1]\n",
    "sen = ' '.join(sen)\n",
    "print('Output : ',sen)"
   ]
  },
  {
   "cell_type": "markdown",
   "id": "5ebbd096",
   "metadata": {},
   "source": [
    "### 27.Write a program to print characters at odd position and even position for the given string ?"
   ]
  },
  {
   "cell_type": "code",
   "execution_count": 41,
   "id": "6c213243",
   "metadata": {},
   "outputs": [
    {
     "name": "stdout",
     "output_type": "stream",
     "text": [
      "Enter input string : \n",
      "Input : abcdefghijklmn\n",
      "odd position characters: \n",
      "['b', 'd', 'f', 'h', 'j', 'l', 'n']\n",
      "even position characters: \n",
      "['a', 'c', 'e', 'g', 'i', 'k', 'm']\n"
     ]
    }
   ],
   "source": [
    "print('Enter input string : ')\n",
    "s = input('Input : ')\n",
    "print('odd position characters: ')\n",
    "print([s[i] for i in range(len(s)) if (i%2!=0)])\n",
    "print('even position characters: ')\n",
    "print([s[i] for i in range(len(s)) if (i%2==0)])"
   ]
  },
  {
   "cell_type": "code",
   "execution_count": null,
   "id": "b04a7976",
   "metadata": {},
   "outputs": [],
   "source": []
  }
 ],
 "metadata": {
  "kernelspec": {
   "display_name": "Python 3",
   "language": "python",
   "name": "python3"
  },
  "language_info": {
   "codemirror_mode": {
    "name": "ipython",
    "version": 3
   },
   "file_extension": ".py",
   "mimetype": "text/x-python",
   "name": "python",
   "nbconvert_exporter": "python",
   "pygments_lexer": "ipython3",
   "version": "3.8.8"
  }
 },
 "nbformat": 4,
 "nbformat_minor": 5
}
