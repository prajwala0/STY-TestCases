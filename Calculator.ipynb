{
 "cells": [
  {
   "cell_type": "code",
   "execution_count": 1,
   "id": "ee272ab4",
   "metadata": {},
   "outputs": [
    {
     "name": "stdout",
     "output_type": "stream",
     "text": [
      "Select number for choice of Operation : \n",
      "1.Addition\n",
      "2.Subraction\n",
      "3.Multiplication\n",
      "4.Division\n",
      "Enter choice 1/2/3/4 : 1\n",
      "Enter first number : 2\n",
      "Enter second number : 3\n",
      "2 + 3 = 5\n",
      "If you want to continue calculation? (y/n) :y\n",
      "Enter choice 1/2/3/4 : 2\n",
      "Enter first number : 6\n",
      "Enter second number : 2\n",
      "6 - 2 = 4\n",
      "If you want to continue calculation? (y/n) :y\n",
      "Enter choice 1/2/3/4 : 3\n",
      "Enter first number : 3\n",
      "Enter second number : 5\n",
      "3 * 5 = 15\n",
      "If you want to continue calculation? (y/n) :y\n",
      "Enter choice 1/2/3/4 : 4\n",
      "Enter first number : 8\n",
      "Enter second number : 4\n",
      "8 / 4 = 2.0\n",
      "If you want to continue calculation? (y/n) :y\n",
      "Enter choice 1/2/3/4 : 6\n",
      "Invalid Operation\n",
      "If you want to continue calculation? (y/n) :y\n",
      "Enter choice 1/2/3/4 : 1\n",
      "Enter first number : 2\n",
      "Enter second number : 3\n",
      "2 + 3 = 5\n",
      "If you want to continue calculation? (y/n) :n\n",
      "Calcualtion will stop\n"
     ]
    }
   ],
   "source": [
    "def add(a,b):\n",
    "    return a+b\n",
    "def sub(a,b):\n",
    "    return a-b\n",
    "def mul(a,b):\n",
    "    return a*b\n",
    "def div(a,b):\n",
    "    return a/b\n",
    "\n",
    "print('Select number for choice of Operation : ')\n",
    "print('1.Addition')\n",
    "print('2.Subraction')\n",
    "print('3.Multiplication')\n",
    "print('4.Division')\n",
    "\n",
    "\n",
    "while True:\n",
    "    choice = input('Enter choice 1/2/3/4 : ')\n",
    "    \n",
    "    if choice in ('1','2','3','4') :\n",
    "        a = int(input('Enter first number : '))\n",
    "        b = int(input('Enter second number : '))\n",
    "\n",
    "        if choice=='1':\n",
    "            print(a,'+',b,'=', add(a,b))\n",
    "        elif choice=='2':\n",
    "            print(a,'-',b,'=', sub(a,b))\n",
    "        elif choice=='3':\n",
    "            print(a,'*',b,'=', mul(a,b))\n",
    "        elif choice=='4':\n",
    "            print(a,'/',b,'=', div(a,b))\n",
    "    else:\n",
    "        print('Invalid Operation')\n",
    "        \n",
    "    next_cal = input('If you want to continue calculation? (y/n) :')\n",
    "    if next_cal == 'n':\n",
    "        print('Calcualtion will stop')\n",
    "        break\n"
   ]
  },
  {
   "cell_type": "code",
   "execution_count": null,
   "id": "f380e14a",
   "metadata": {},
   "outputs": [],
   "source": []
  }
 ],
 "metadata": {
  "kernelspec": {
   "display_name": "Python 3",
   "language": "python",
   "name": "python3"
  },
  "language_info": {
   "codemirror_mode": {
    "name": "ipython",
    "version": 3
   },
   "file_extension": ".py",
   "mimetype": "text/x-python",
   "name": "python",
   "nbconvert_exporter": "python",
   "pygments_lexer": "ipython3",
   "version": "3.8.8"
  }
 },
 "nbformat": 4,
 "nbformat_minor": 5
}
