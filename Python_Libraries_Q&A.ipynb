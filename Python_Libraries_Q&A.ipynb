{
 "cells": [
  {
   "cell_type": "markdown",
   "id": "7ad5e63e",
   "metadata": {},
   "source": [
    "# Numpy"
   ]
  },
  {
   "cell_type": "markdown",
   "id": "5295c2b2",
   "metadata": {},
   "source": [
    "### 1. What is Numpy? What is the importance and use of Numpy?"
   ]
  },
  {
   "cell_type": "markdown",
   "id": "58decb08",
   "metadata": {},
   "source": [
    "NumPy is a Python library used for working with arrays. NumPy stands for Numerical Python.\n",
    "\n",
    "In Python we have lists that serve the purpose of arrays, but they are slow to process. NumPy aims to provide an array object that is up to 50x faster than traditional Python lists.\n",
    "\n",
    "It also has functions for working in domain of linear algebra, fourier transform, and matrices and Tools for integrating C/C++ and Fortran code.\n"
   ]
  },
  {
   "cell_type": "markdown",
   "id": "4e8a83cd",
   "metadata": {},
   "source": [
    "### 2. What is Vector / Matrix / Tensor ? "
   ]
  },
  {
   "cell_type": "markdown",
   "id": "8688a26c",
   "metadata": {},
   "source": [
    "#### Scalar\n",
    "A scalar is just a single number\n",
    "\n",
    "#### Vector\n",
    "A vector is a One-dimensional array of numbers.\n",
    "\n",
    "#### Matrix\n",
    "A matrix is a 2-D array of numbers, so each element is identiﬁed by two indices instead of just one.\n",
    "\n",
    "#### Tensor\n",
    "An array with more than two axes is called tensor. We can create 3-dimensional array, or tensor, by numpy array function."
   ]
  },
  {
   "cell_type": "markdown",
   "id": "f31731f9",
   "metadata": {},
   "source": [
    "### 3. What is the difference between array and np.array ?"
   ]
  },
  {
   "cell_type": "markdown",
   "id": "bab5be02",
   "metadata": {},
   "source": [
    "#### Arrays\n",
    "\n",
    "    Need to import the standard library's array module\n",
    "    Can only store objects of the same type\n",
    "    Supports only one-dimensional arrays\n",
    "    Can perform similar operations as lists, except for the type restriction\n",
    "    You can create an array by specifying a type code in the constructor array.array(). "
   ]
  },
  {
   "cell_type": "code",
   "execution_count": 1,
   "id": "9febdec0",
   "metadata": {},
   "outputs": [
    {
     "name": "stdout",
     "output_type": "stream",
     "text": [
      "array('i', [1, 2])\n",
      "i\n",
      "4\n"
     ]
    }
   ],
   "source": [
    "import array as array\n",
    "array1 = array.array('i', [1, 2])\n",
    "print(array1)\n",
    "print(array1.typecode)\n",
    "print(array1.itemsize)"
   ]
  },
  {
   "cell_type": "markdown",
   "id": "aa695fda",
   "metadata": {},
   "source": [
    "Here the typecode ‘i’ specifies that objects stored in array will be of type signed integer."
   ]
  },
  {
   "cell_type": "markdown",
   "id": "55decc31",
   "metadata": {},
   "source": [
    "#### numpy.ndarray"
   ]
  },
  {
   "cell_type": "markdown",
   "id": "21fe1892",
   "metadata": {},
   "source": [
    "    Need to install and import NumPy\n",
    "    Can only store objects of the same type\n",
    "    Can store pointers to various types in an object type\n",
    "    NumPy: Cast ndarray to a specific dtype with astype()\n",
    "    Can represent multi-dimensional arrays\n",
    "    Offers numerous methods and functions for numerical computation"
   ]
  },
  {
   "cell_type": "code",
   "execution_count": 2,
   "id": "2d26eaf6",
   "metadata": {},
   "outputs": [
    {
     "name": "stdout",
     "output_type": "stream",
     "text": [
      "[0 1 2]\n"
     ]
    }
   ],
   "source": [
    "import numpy as np\n",
    "arr = np.array([0, 1, 2])\n",
    "print(arr)"
   ]
  },
  {
   "cell_type": "markdown",
   "id": "ee38809d",
   "metadata": {},
   "source": [
    "An array allows for strict memory management due to its restriction on the types of elements it can store, but if memory management is not a concern, use a list. It's not very useful for other purposes, except for those requiring memory size and memory address management (in my opinion).\n",
    "\n",
    "For handling multi-dimensional arrays or performing numerical computations (scientific and technical operations) and matrix operations on arrays, use numpy.ndarray."
   ]
  },
  {
   "cell_type": "markdown",
   "id": "b54fc814",
   "metadata": {},
   "source": [
    "### 4. What is view ?"
   ]
  },
  {
   "cell_type": "markdown",
   "id": "17b77bfd",
   "metadata": {},
   "source": [
    "numpy.ndarray.view() helps to get a new view of array with the same data.\n",
    "\n",
    "Syntax: ndarray.view(dtype=None, type=None)"
   ]
  },
  {
   "cell_type": "code",
   "execution_count": 3,
   "id": "cbe823e5",
   "metadata": {},
   "outputs": [
    {
     "name": "stdout",
     "output_type": "stream",
     "text": [
      "[42  2  3  4  5]\n",
      "[42  2  3  4  5]\n"
     ]
    }
   ],
   "source": [
    "import numpy as np\n",
    "\n",
    "arr = np.array([1, 2, 3, 4, 5])\n",
    "x = arr.view()\n",
    "arr[0] = 42\n",
    "\n",
    "print(arr)\n",
    "print(x)"
   ]
  },
  {
   "cell_type": "markdown",
   "id": "746a260f",
   "metadata": {},
   "source": [
    "### 5. What is masking ?"
   ]
  },
  {
   "cell_type": "markdown",
   "id": "2a91cae3",
   "metadata": {},
   "source": [
    "Masks are an array that contains the list of boolean values for the given condition. The masked array is the arrays that have invalid or missing entries.\n",
    "\n",
    "Using Masking of arrays we can easily handle the missing, invalid, or unwanted entries in our array or dataset/dataframe. Masking is essential works with the list of Boolean values i.e, True or False which when applied to an original array to return the element of interest, here True refers to the value that satisfies the given condition whereas False refers to values that fail to satisfy the condition."
   ]
  },
  {
   "cell_type": "markdown",
   "id": "60819454",
   "metadata": {},
   "source": [
    "----------------------"
   ]
  },
  {
   "cell_type": "markdown",
   "id": "3aced9ec",
   "metadata": {},
   "source": [
    "# Pandas"
   ]
  },
  {
   "cell_type": "markdown",
   "id": "640696e6",
   "metadata": {},
   "source": [
    "### 1. Define the Pandas/Python pandas? What are the significant features of the pandas Library?"
   ]
  },
  {
   "cell_type": "markdown",
   "id": "71a67ef4",
   "metadata": {},
   "source": [
    "Pandas is a Python library used for working with data sets.\n",
    "\n",
    "    It has functions for analyzing, cleaning, exploring, and manipulating data.\n",
    "    Pandas allows us to analyze big data and make conclusions based on statistical theories.\n",
    "    Pandas can clean messy data sets, and make them readable and relevant.\n",
    "    Pandas provides time-series functionality."
   ]
  },
  {
   "cell_type": "markdown",
   "id": "24cc8de3",
   "metadata": {},
   "source": [
    "### 2. Define Series in Pandas?"
   ]
  },
  {
   "cell_type": "markdown",
   "id": "3e72d6de",
   "metadata": {},
   "source": [
    "Pandas Series is a one-dimensional labeled array capable of holding data of any type. "
   ]
  },
  {
   "cell_type": "code",
   "execution_count": 4,
   "id": "0713b378",
   "metadata": {},
   "outputs": [
    {
     "data": {
      "text/plain": [
       "0    1\n",
       "1    7\n",
       "2    2\n",
       "dtype: int64"
      ]
     },
     "execution_count": 4,
     "metadata": {},
     "output_type": "execute_result"
    }
   ],
   "source": [
    "import pandas as pd\n",
    "\n",
    "a = [1, 7, 2]\n",
    "s = pd.Series(a)\n",
    "s"
   ]
  },
  {
   "cell_type": "markdown",
   "id": "20c758c1",
   "metadata": {},
   "source": [
    "### 3. How will you create a series from dict in Pandas?"
   ]
  },
  {
   "cell_type": "code",
   "execution_count": 5,
   "id": "16c21201",
   "metadata": {},
   "outputs": [
    {
     "data": {
      "text/plain": [
       "day1    420\n",
       "day2    380\n",
       "day3    390\n",
       "dtype: int64"
      ]
     },
     "execution_count": 5,
     "metadata": {},
     "output_type": "execute_result"
    }
   ],
   "source": [
    "import pandas as pd\n",
    "\n",
    "calories = {\"day1\": 420, \"day2\": 380, \"day3\": 390}\n",
    "s = pd.Series(calories)\n",
    "s"
   ]
  },
  {
   "cell_type": "markdown",
   "id": "a3d11653",
   "metadata": {},
   "source": [
    "### 4.How can we create a copy of the series in Pandas?"
   ]
  },
  {
   "cell_type": "markdown",
   "id": "5850844d",
   "metadata": {},
   "source": [
    "The copy() method returns a copy of the DataFrame.\n",
    "\n",
    "By default, the copy is a \"deep copy\" meaning that any changes made in the original DataFrame will NOT be reflected in the copy.\n",
    "\n",
    "**Syntax:**\n",
    "    dataframe.copy(deep)"
   ]
  },
  {
   "cell_type": "code",
   "execution_count": 6,
   "id": "82c69f63",
   "metadata": {},
   "outputs": [
    {
     "name": "stdout",
     "output_type": "stream",
     "text": [
      "series\n",
      "W    98\n",
      "X    23\n",
      "Y    43\n",
      "Z    45\n",
      "dtype: int64\n",
      "Copied series object:\n",
      "W    98\n",
      "X    23\n",
      "Y    43\n",
      "Z    45\n",
      "dtype: int64\n",
      "objects after updating a value: \n",
      "W    55\n",
      "X    23\n",
      "Y    43\n",
      "Z    45\n",
      "dtype: int64\n",
      "series\n",
      "W    98\n",
      "X    23\n",
      "Y    43\n",
      "Z    45\n",
      "dtype: int64\n"
     ]
    }
   ],
   "source": [
    "import pandas as pd\n",
    "\n",
    "index = list(\"WXYZ\")\n",
    "series = pd.Series([98,23,43,45], index=index)      #create a pandas Series\n",
    "print('series')\n",
    "print(series)\n",
    "\n",
    "copy_sr = series.copy()    # create a copy\n",
    "print(\"Copied series object:\")\n",
    "print(copy_sr)\n",
    "copy_sr['W'] = 55    # update a value\n",
    "\n",
    "print(\"objects after updating a value: \")\n",
    "print(copy_sr)\n",
    "print('series')\n",
    "print(series)"
   ]
  },
  {
   "cell_type": "markdown",
   "id": "6c5f3abb",
   "metadata": {},
   "source": [
    "### 5. What is a pandas DataFrame? How will you create an empty DataFrame in Pandas?"
   ]
  },
  {
   "cell_type": "markdown",
   "id": "c7e97b9c",
   "metadata": {},
   "source": [
    "A Pandas DataFrame is a 2 dimensional data structure, like a 2 dimensional array, or a table with rows and columns."
   ]
  },
  {
   "cell_type": "code",
   "execution_count": 7,
   "id": "2e737e06",
   "metadata": {},
   "outputs": [
    {
     "name": "stdout",
     "output_type": "stream",
     "text": [
      "Empty DataFrame\n",
      "Columns: []\n",
      "Index: []\n"
     ]
    }
   ],
   "source": [
    "import pandas as pd\n",
    "\n",
    "df = pd.DataFrame() \n",
    "print(df)"
   ]
  },
  {
   "cell_type": "markdown",
   "id": "c29ff304",
   "metadata": {},
   "source": [
    "### 6. How will you add a column to a pandas DataFrame?"
   ]
  },
  {
   "cell_type": "markdown",
   "id": "290b26d0",
   "metadata": {},
   "source": [
    "Different ways of adding a new column to an existing data frame:"
   ]
  },
  {
   "cell_type": "code",
   "execution_count": 8,
   "id": "a8dee5d9",
   "metadata": {},
   "outputs": [],
   "source": [
    "df = pd.DataFrame({\"A\": [1, 2, 3, 4],\n",
    "                   \"B\": [5, 6, 7, 8]})"
   ]
  },
  {
   "cell_type": "markdown",
   "id": "23f9fb64",
   "metadata": {},
   "source": [
    "#### By declaring a new list as a column"
   ]
  },
  {
   "cell_type": "code",
   "execution_count": 9,
   "id": "eb10d590",
   "metadata": {},
   "outputs": [],
   "source": [
    "df[\"C\"] = [10, 20, 30, 40]"
   ]
  },
  {
   "cell_type": "markdown",
   "id": "e693b6aa",
   "metadata": {},
   "source": [
    "#### By using DataFrame.insert()"
   ]
  },
  {
   "cell_type": "code",
   "execution_count": 10,
   "id": "8efee842",
   "metadata": {},
   "outputs": [],
   "source": [
    "df.insert(1, \"D\", 5)"
   ]
  },
  {
   "cell_type": "markdown",
   "id": "d70bb9e6",
   "metadata": {},
   "source": [
    "#### By using the Dataframe.assign() method"
   ]
  },
  {
   "cell_type": "code",
   "execution_count": 11,
   "id": "8fad7d0c",
   "metadata": {},
   "outputs": [],
   "source": [
    "df = df.assign(F = df.C * 10)"
   ]
  },
  {
   "cell_type": "markdown",
   "id": "8ee5e7a7",
   "metadata": {},
   "source": [
    "#### By using the dictionary data structure"
   ]
  },
  {
   "cell_type": "code",
   "execution_count": 12,
   "id": "fbb5cb93",
   "metadata": {},
   "outputs": [
    {
     "data": {
      "text/html": [
       "<div>\n",
       "<style scoped>\n",
       "    .dataframe tbody tr th:only-of-type {\n",
       "        vertical-align: middle;\n",
       "    }\n",
       "\n",
       "    .dataframe tbody tr th {\n",
       "        vertical-align: top;\n",
       "    }\n",
       "\n",
       "    .dataframe thead th {\n",
       "        text-align: right;\n",
       "    }\n",
       "</style>\n",
       "<table border=\"1\" class=\"dataframe\">\n",
       "  <thead>\n",
       "    <tr style=\"text-align: right;\">\n",
       "      <th></th>\n",
       "      <th>A</th>\n",
       "      <th>D</th>\n",
       "      <th>B</th>\n",
       "      <th>C</th>\n",
       "      <th>F</th>\n",
       "      <th>E</th>\n",
       "    </tr>\n",
       "  </thead>\n",
       "  <tbody>\n",
       "    <tr>\n",
       "      <th>0</th>\n",
       "      <td>1</td>\n",
       "      <td>5</td>\n",
       "      <td>5</td>\n",
       "      <td>10</td>\n",
       "      <td>100</td>\n",
       "      <td>a</td>\n",
       "    </tr>\n",
       "    <tr>\n",
       "      <th>1</th>\n",
       "      <td>2</td>\n",
       "      <td>5</td>\n",
       "      <td>6</td>\n",
       "      <td>20</td>\n",
       "      <td>200</td>\n",
       "      <td>b</td>\n",
       "    </tr>\n",
       "    <tr>\n",
       "      <th>2</th>\n",
       "      <td>3</td>\n",
       "      <td>5</td>\n",
       "      <td>7</td>\n",
       "      <td>30</td>\n",
       "      <td>300</td>\n",
       "      <td>c</td>\n",
       "    </tr>\n",
       "    <tr>\n",
       "      <th>3</th>\n",
       "      <td>4</td>\n",
       "      <td>5</td>\n",
       "      <td>8</td>\n",
       "      <td>40</td>\n",
       "      <td>400</td>\n",
       "      <td>d</td>\n",
       "    </tr>\n",
       "  </tbody>\n",
       "</table>\n",
       "</div>"
      ],
      "text/plain": [
       "   A  D  B   C    F  E\n",
       "0  1  5  5  10  100  a\n",
       "1  2  5  6  20  200  b\n",
       "2  3  5  7  30  300  c\n",
       "3  4  5  8  40  400  d"
      ]
     },
     "execution_count": 12,
     "metadata": {},
     "output_type": "execute_result"
    }
   ],
   "source": [
    "e = {'a':1, 'b':2, 'c':3, 'd':4}\n",
    "df['E'] = e\n",
    "df"
   ]
  },
  {
   "cell_type": "markdown",
   "id": "95907838",
   "metadata": {},
   "source": [
    "### 7. How to Rename the Index or Columns of a Pandas DataFrame?"
   ]
  },
  {
   "cell_type": "code",
   "execution_count": 13,
   "id": "2e14b7ac",
   "metadata": {},
   "outputs": [
    {
     "name": "stdout",
     "output_type": "stream",
     "text": [
      "   a  new\n",
      "0  1    3\n",
      "1  2    4\n"
     ]
    }
   ],
   "source": [
    "df = pd.DataFrame({'a': [1, 2], 'b': [3, 4]}) \n",
    "df2 = df.rename(columns={df.columns[1]: 'new'})\n",
    "\n",
    "print(df2)"
   ]
  },
  {
   "cell_type": "markdown",
   "id": "1893403f",
   "metadata": {},
   "source": [
    "### 8. How to iterate over a Pandas DataFrame?"
   ]
  },
  {
   "cell_type": "code",
   "execution_count": 14,
   "id": "72bd91f3",
   "metadata": {},
   "outputs": [
    {
     "data": {
      "text/html": [
       "<div>\n",
       "<style scoped>\n",
       "    .dataframe tbody tr th:only-of-type {\n",
       "        vertical-align: middle;\n",
       "    }\n",
       "\n",
       "    .dataframe tbody tr th {\n",
       "        vertical-align: top;\n",
       "    }\n",
       "\n",
       "    .dataframe thead th {\n",
       "        text-align: right;\n",
       "    }\n",
       "</style>\n",
       "<table border=\"1\" class=\"dataframe\">\n",
       "  <thead>\n",
       "    <tr style=\"text-align: right;\">\n",
       "      <th></th>\n",
       "      <th>Name</th>\n",
       "      <th>Age</th>\n",
       "      <th>Stream</th>\n",
       "      <th>Percentage</th>\n",
       "    </tr>\n",
       "  </thead>\n",
       "  <tbody>\n",
       "    <tr>\n",
       "      <th>0</th>\n",
       "      <td>Ankit</td>\n",
       "      <td>21</td>\n",
       "      <td>Math</td>\n",
       "      <td>88</td>\n",
       "    </tr>\n",
       "    <tr>\n",
       "      <th>1</th>\n",
       "      <td>Amit</td>\n",
       "      <td>19</td>\n",
       "      <td>Commerce</td>\n",
       "      <td>92</td>\n",
       "    </tr>\n",
       "    <tr>\n",
       "      <th>2</th>\n",
       "      <td>Aishwarya</td>\n",
       "      <td>20</td>\n",
       "      <td>Arts</td>\n",
       "      <td>95</td>\n",
       "    </tr>\n",
       "    <tr>\n",
       "      <th>3</th>\n",
       "      <td>Priyanka</td>\n",
       "      <td>18</td>\n",
       "      <td>Biology</td>\n",
       "      <td>70</td>\n",
       "    </tr>\n",
       "  </tbody>\n",
       "</table>\n",
       "</div>"
      ],
      "text/plain": [
       "        Name  Age    Stream  Percentage\n",
       "0      Ankit   21      Math          88\n",
       "1       Amit   19  Commerce          92\n",
       "2  Aishwarya   20      Arts          95\n",
       "3   Priyanka   18   Biology          70"
      ]
     },
     "execution_count": 14,
     "metadata": {},
     "output_type": "execute_result"
    }
   ],
   "source": [
    "import pandas as pd\n",
    "data = {'Name': ['Ankit', 'Amit', 'Aishwarya', 'Priyanka'], 'Age': [21, 19, 20, 18], \n",
    "        'Stream': ['Math', 'Commerce', 'Arts','Biology'], 'Percentage': [88, 92, 95, 70]}\n",
    "df = pd.DataFrame(data, columns=['Name', 'Age', 'Stream', 'Percentage'])\n",
    "df"
   ]
  },
  {
   "cell_type": "markdown",
   "id": "53115543",
   "metadata": {},
   "source": [
    "#### Using apply() method of the Dataframe : "
   ]
  },
  {
   "cell_type": "code",
   "execution_count": null,
   "id": "b7a2e42b",
   "metadata": {},
   "outputs": [],
   "source": [
    "%%timeit \n",
    "df.apply(lambda row: row[\"Name\"] + \" \" + str(row[\"Percentage\"]), axis=1)"
   ]
  },
  {
   "cell_type": "markdown",
   "id": "2633a642",
   "metadata": {},
   "source": [
    "#### By using Pandas vectorization :"
   ]
  },
  {
   "cell_type": "code",
   "execution_count": null,
   "id": "edee328d",
   "metadata": {},
   "outputs": [],
   "source": [
    "%%timeit \n",
    "df[\"Name\"] + \" \" + df[\"Stream\"]"
   ]
  },
  {
   "cell_type": "markdown",
   "id": "b0a5fd4c",
   "metadata": {},
   "source": [
    "#### By using NumPy vectorization"
   ]
  },
  {
   "cell_type": "code",
   "execution_count": null,
   "id": "8a2ae8e3",
   "metadata": {},
   "outputs": [],
   "source": [
    "%%timeit \n",
    "df[\"Name\"].to_numpy()  + \" \" + df[\"Stream\"].to_numpy() "
   ]
  },
  {
   "cell_type": "markdown",
   "id": "4a433e85",
   "metadata": {},
   "source": [
    "https://towardsdatascience.com/efficiently-iterating-over-rows-in-a-pandas-dataframe-7dd5f9992c01"
   ]
  },
  {
   "cell_type": "markdown",
   "id": "b1b4a463",
   "metadata": {},
   "source": [
    "### 9. What is Pandas NumPy array?"
   ]
  },
  {
   "cell_type": "markdown",
   "id": "776a3fd8",
   "metadata": {},
   "source": [
    "For most data types, pandas uses NumPy arrays as the concrete objects contained with a Index, Series, or DataFrame."
   ]
  },
  {
   "cell_type": "markdown",
   "id": "51e57967",
   "metadata": {},
   "source": [
    "### 10. Define GroupBy in Pandas?"
   ]
  },
  {
   "cell_type": "markdown",
   "id": "00b18c11",
   "metadata": {},
   "source": [
    "A groupby operation involves some combination of splitting the object, applying a function, and combining the results. "
   ]
  },
  {
   "cell_type": "markdown",
   "id": "3ecb0e3d",
   "metadata": {},
   "source": [
    "**Syntax :**\n",
    "    dataframe.groupby()"
   ]
  },
  {
   "cell_type": "markdown",
   "id": "455448f3",
   "metadata": {},
   "source": [
    "### 11. How To Write a Pandas DataFrame to a File"
   ]
  },
  {
   "cell_type": "markdown",
   "id": "ba2b5b8e",
   "metadata": {},
   "source": [
    "It is common practice in data analysis to export data from Pandas DataFrames into CSV files because it can help conserve time and resources.\n",
    "\n",
    "**Syntax :**\n",
    "DataFrame.to_csv(filename, sep=',', index=False, encoding='utf-8')\n",
    "\n",
    "The .to_csv() method is a built-in function in Pandas that allows you to save a Pandas DataFrame as a CSV file. "
   ]
  },
  {
   "cell_type": "markdown",
   "id": "903edf68",
   "metadata": {},
   "source": [
    "**Other Ways to Save Pandas DataFrames :**\n",
    "\n",
    "**to_excel():** This method is used to save a DataFrame as an Excel file.\n",
    "    \n",
    "**to_json():** This method is used to save a DataFrame as a JSON file.\n",
    "    \n",
    "**to_hdf():** This method is used to save a DataFrame as an HDF5 file, which is a hierarchical data format commonly used in scientific computing.\n",
    "    \n",
    "**to_sql():** This method is used to save a DataFrame to a SQL database.\n",
    "    \n",
    "**to_pickle():** This method is used to save a DataFrame as a pickled object, which is a serialized representation of the DataFrame."
   ]
  },
  {
   "cell_type": "markdown",
   "id": "55ba6231",
   "metadata": {},
   "source": [
    "----------"
   ]
  },
  {
   "cell_type": "markdown",
   "id": "d93661ce",
   "metadata": {},
   "source": [
    "# Matplotlib"
   ]
  },
  {
   "cell_type": "markdown",
   "id": "d55d9eb4",
   "metadata": {},
   "source": [
    "### 1. What is the purpose of matplotlib? Is matplotlib part of numpy?"
   ]
  },
  {
   "cell_type": "markdown",
   "id": "61e84a32",
   "metadata": {},
   "source": [
    "Matplotlib is an amazing visualization library in Python for 2D plots of arrays. \n",
    "\n",
    "Matplotlib is a multi-platform data visualization library built on NumPy arrays and designed to work with the broader SciPy stack."
   ]
  },
  {
   "cell_type": "markdown",
   "id": "dc2fd54f",
   "metadata": {},
   "source": [
    "### 2. What is the use of pyplot in matplotlib? How to import matplotlibPyplot ?"
   ]
  },
  {
   "cell_type": "markdown",
   "id": "c357e100",
   "metadata": {},
   "source": [
    "Pyplot is a Matplotlib module that provides a MATLAB-like interface. Matplotlib is designed to be as usable as MATLAB, with the ability to use Python and the advantage of being free and open-source. \n",
    "\n",
    "Each pyplot function makes some changes to a figure: e.g., creates a figure, creates a plotting area in a figure, plots some lines in a plotting area, decorates the plot with labels, etc. The various plots we can utilize using Pyplot are Line Plot, Histogram, Scatter, 3D Plot, Image, Contour, and Polar."
   ]
  },
  {
   "cell_type": "code",
   "execution_count": null,
   "id": "c0090b23",
   "metadata": {},
   "outputs": [],
   "source": [
    "import matplotlib.pyplot as plt\n",
    "import numpy as np\n",
    "\n",
    "xpoints = np.array([0, 6])\n",
    "ypoints = np.array([0, 250])\n",
    "\n",
    "plt.plot(xpoints, ypoints)\n",
    "plt.show()"
   ]
  },
  {
   "cell_type": "markdown",
   "id": "38d34fa0",
   "metadata": {},
   "source": [
    "### 3. Which is better matplotlib or seaborn? Does seaborn need matplotlib?"
   ]
  },
  {
   "cell_type": "markdown",
   "id": "2c0e8677",
   "metadata": {},
   "source": [
    "It is built on the roof of Matplotlib and is considered as a superset of the Matplotlib library.\n",
    "\n",
    "Seaborn is a better choice for data visualization in data science than Matplotlib. Its simple and intuitive API, beautiful default style, ability to handle large datasets, and built-in functions for plotting common statistical plots make it the go-to choice for data scientists. "
   ]
  },
  {
   "cell_type": "markdown",
   "id": "23e40781",
   "metadata": {},
   "source": [
    "### 4. Why do we need matplotlib inline?"
   ]
  },
  {
   "cell_type": "markdown",
   "id": "1729a996",
   "metadata": {},
   "source": [
    "This line tells Jupyter to display Matplotlib plots directly in the output of the notebook. One of the major benefits of using \"Matplotlib inline\" is that it allows you to quickly and easily visualize your data without having to save plots as image files or open them in a separate window."
   ]
  },
  {
   "cell_type": "markdown",
   "id": "c2a7972f",
   "metadata": {},
   "source": [
    "-------------"
   ]
  },
  {
   "cell_type": "code",
   "execution_count": null,
   "id": "edc8f7d8",
   "metadata": {},
   "outputs": [],
   "source": []
  }
 ],
 "metadata": {
  "kernelspec": {
   "display_name": "Python 3",
   "language": "python",
   "name": "python3"
  },
  "language_info": {
   "codemirror_mode": {
    "name": "ipython",
    "version": 3
   },
   "file_extension": ".py",
   "mimetype": "text/x-python",
   "name": "python",
   "nbconvert_exporter": "python",
   "pygments_lexer": "ipython3",
   "version": "3.8.8"
  }
 },
 "nbformat": 4,
 "nbformat_minor": 5
}
